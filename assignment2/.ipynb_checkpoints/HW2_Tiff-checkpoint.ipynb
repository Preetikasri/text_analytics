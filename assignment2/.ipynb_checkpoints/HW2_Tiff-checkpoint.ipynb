{
 "cells": [
  {
   "cell_type": "code",
   "execution_count": 1,
   "metadata": {},
   "outputs": [
    {
     "name": "stdout",
     "output_type": "stream",
     "text": [
      "Populating the interactive namespace from numpy and matplotlib\n"
     ]
    }
   ],
   "source": [
    "from pandas import Series, DataFrame\n",
    "import pandas as pd\n",
    "%pylab inline\n",
    "from nltk import pos_tag, word_tokenize\n",
    "from nltk.corpus import stopwords\n",
    "from nltk.probability import FreqDist\n",
    "import re\n",
    "import warnings\n",
    "warnings.filterwarnings(\"ignore\")"
   ]
  },
  {
   "cell_type": "markdown",
   "metadata": {},
   "source": [
    "### Clean the scrapping data."
   ]
  },
  {
   "cell_type": "code",
   "execution_count": 2,
   "metadata": {
    "collapsed": true
   },
   "outputs": [],
   "source": [
    "df = pd.read_csv('/Volumes/My Passport SSD/text_analytics-master/assignment2/edmunds_comments.csv', index_col=0)"
   ]
  },
  {
   "cell_type": "code",
   "execution_count": 24,
   "metadata": {
    "collapsed": true
   },
   "outputs": [],
   "source": [
    "# create a dictionary that replace the model names to brand\n",
    "model_df = pd.read_csv('models.csv')\n",
    "model_df.columns = ['Replace', 'Search']\n",
    "model_df['Replace'] = model_df['Replace'].str.lower()\n",
    "model_df['Search'] = model_df['Search'].str.lower()\n",
    "model_dict = model_df.set_index('Search')['Replace'].to_dict()"
   ]
  },
  {
   "cell_type": "code",
   "execution_count": 25,
   "metadata": {
    "collapsed": true
   },
   "outputs": [],
   "source": [
    "#corpus pre-processing, including remove the stopwords\n",
    "from nltk.corpus import stopwords\n",
    "StopWordslist = stopwords.words(\"english\")\n",
    "\n",
    "def string_process(s):\n",
    "    s=str(s)\n",
    "    lower = s.lower()\n",
    "    for key, value in model_dict.items():\n",
    "        lower= lower.replace(key, value)\n",
    "    words = lower.split()\n",
    "    refined = []\n",
    "    for i in words:\n",
    "        if i not in StopWordslist:\n",
    "            refined.append(re.sub(\"[^\\w]+\", \"\", i))\n",
    "    sentence = ' '.join([word for word in refined])\n",
    "    return(sentence)\n",
    "df['clean_message']=df['post'].map(string_process)"
   ]
  },
  {
   "cell_type": "code",
   "execution_count": 26,
   "metadata": {},
   "outputs": [
    {
     "data": {
      "text/html": [
       "<div>\n",
       "<style scoped>\n",
       "    .dataframe tbody tr th:only-of-type {\n",
       "        vertical-align: middle;\n",
       "    }\n",
       "\n",
       "    .dataframe tbody tr th {\n",
       "        vertical-align: top;\n",
       "    }\n",
       "\n",
       "    .dataframe thead th {\n",
       "        text-align: right;\n",
       "    }\n",
       "</style>\n",
       "<table border=\"1\" class=\"dataframe\">\n",
       "  <thead>\n",
       "    <tr style=\"text-align: right;\">\n",
       "      <th></th>\n",
       "      <th>username</th>\n",
       "      <th>post</th>\n",
       "      <th>quotes</th>\n",
       "      <th>clean_message</th>\n",
       "    </tr>\n",
       "    <tr>\n",
       "      <th>date</th>\n",
       "      <th></th>\n",
       "      <th></th>\n",
       "      <th></th>\n",
       "      <th></th>\n",
       "    </tr>\n",
       "  </thead>\n",
       "  <tbody>\n",
       "    <tr>\n",
       "      <th>September 7</th>\n",
       "      <td>dino001</td>\n",
       "      <td>If they keep it around in next four-five years...</td>\n",
       "      <td>The lease rate is the factor that stops me col...</td>\n",
       "      <td>keep around next fourfive years think make put...</td>\n",
       "    </tr>\n",
       "    <tr>\n",
       "      <th>September 7</th>\n",
       "      <td>circlew</td>\n",
       "      <td>The lease rate is the factor that stops me col...</td>\n",
       "      <td>show previous quotes\\n\\n\\nThe Stinger is too b...</td>\n",
       "      <td>lease rate factor stops cold taking leap since...</td>\n",
       "    </tr>\n",
       "    <tr>\n",
       "      <th>September 8</th>\n",
       "      <td>qbrozen</td>\n",
       "      <td>circlew said:\\nThe lease rate is the factor th...</td>\n",
       "      <td>NaN</td>\n",
       "      <td>circlew said lease rate factor stops cold taki...</td>\n",
       "    </tr>\n",
       "    <tr>\n",
       "      <th>September 9</th>\n",
       "      <td>FlightNurse2</td>\n",
       "      <td>roadburner said:\\nshow previous quotes\\n\\n\\nTh...</td>\n",
       "      <td>Again, the local dealer are hopeless at best(W...</td>\n",
       "      <td>roadburner said show previous quotes stinger b...</td>\n",
       "    </tr>\n",
       "    <tr>\n",
       "      <th>September 9</th>\n",
       "      <td>roadburner</td>\n",
       "      <td>Again, the local dealer are hopeless at best(W...</td>\n",
       "      <td>Thanks, but I am more than aware of the distin...</td>\n",
       "      <td>again local dealer hopeless bestwhat put ya ca...</td>\n",
       "    </tr>\n",
       "  </tbody>\n",
       "</table>\n",
       "</div>"
      ],
      "text/plain": [
       "                 username                                               post  \\\n",
       "date                                                                           \n",
       "September 7       dino001  If they keep it around in next four-five years...   \n",
       "September 7       circlew  The lease rate is the factor that stops me col...   \n",
       "September 8       qbrozen  circlew said:\\nThe lease rate is the factor th...   \n",
       "September 9  FlightNurse2  roadburner said:\\nshow previous quotes\\n\\n\\nTh...   \n",
       "September 9    roadburner  Again, the local dealer are hopeless at best(W...   \n",
       "\n",
       "                                                        quotes  \\\n",
       "date                                                             \n",
       "September 7  The lease rate is the factor that stops me col...   \n",
       "September 7  show previous quotes\\n\\n\\nThe Stinger is too b...   \n",
       "September 8                                                NaN   \n",
       "September 9  Again, the local dealer are hopeless at best(W...   \n",
       "September 9  Thanks, but I am more than aware of the distin...   \n",
       "\n",
       "                                                 clean_message  \n",
       "date                                                            \n",
       "September 7  keep around next fourfive years think make put...  \n",
       "September 7  lease rate factor stops cold taking leap since...  \n",
       "September 8  circlew said lease rate factor stops cold taki...  \n",
       "September 9  roadburner said show previous quotes stinger b...  \n",
       "September 9  again local dealer hopeless bestwhat put ya ca...  "
      ]
     },
     "execution_count": 26,
     "metadata": {},
     "output_type": "execute_result"
    }
   ],
   "source": [
    "df.head()"
   ]
  },
  {
   "cell_type": "markdown",
   "metadata": {},
   "source": [
    "## Task A"
   ]
  },
  {
   "cell_type": "markdown",
   "metadata": {},
   "source": [
    "### Get the model -> brand dictionary"
   ]
  },
  {
   "cell_type": "code",
   "execution_count": 27,
   "metadata": {},
   "outputs": [
    {
     "data": {
      "text/plain": [
       "{'acura',\n",
       " 'audi',\n",
       " 'bmw',\n",
       " 'buick',\n",
       " 'cadillac',\n",
       " 'chevrolet',\n",
       " 'chrysler',\n",
       " 'dodge',\n",
       " 'ford',\n",
       " 'honda',\n",
       " 'hyndai kia',\n",
       " 'hyundai',\n",
       " 'hyundai,',\n",
       " 'hyundai.',\n",
       " 'infiniti',\n",
       " 'kia',\n",
       " 'kia.',\n",
       " 'lincoln',\n",
       " 'mazda',\n",
       " 'mercedes',\n",
       " 'mercedes-benz',\n",
       " 'mercury',\n",
       " 'mitsubishi',\n",
       " 'nissan',\n",
       " 'nissan.',\n",
       " 'pontiac',\n",
       " 'saturn',\n",
       " 'subaru',\n",
       " 'suzuki',\n",
       " 'toyata',\n",
       " 'toyota',\n",
       " 'volkswagen',\n",
       " 'volkwagen',\n",
       " 'volvo'}"
      ]
     },
     "execution_count": 27,
     "metadata": {},
     "output_type": "execute_result"
    }
   ],
   "source": [
    "model_set=set(model_dict.values())-{'car','seat','sedan','problem'}\n",
    "model_set"
   ]
  },
  {
   "cell_type": "markdown",
   "metadata": {},
   "source": [
    "### Get the frequency of brands that mention in the message"
   ]
  },
  {
   "cell_type": "code",
   "execution_count": 54,
   "metadata": {
    "collapsed": true
   },
   "outputs": [],
   "source": [
    "# Now, count the the brand name in each message.\n",
    "count_df=DataFrame(df['clean_message'])\n",
    "count_df.reset_index(level=0, inplace=True)\n",
    "for i in model_set:\n",
    "    count_df[i]=0"
   ]
  },
  {
   "cell_type": "code",
   "execution_count": 56,
   "metadata": {
    "collapsed": true
   },
   "outputs": [],
   "source": [
    "def count_brand():\n",
    "    for num in range(len(count_df['clean_message'])):\n",
    "        for i in model_set:\n",
    "            if i in count_df['clean_message'][num]:\n",
    "                count_df.loc[num,i]=1\n",
    "count_brand()"
   ]
  },
  {
   "cell_type": "code",
   "execution_count": 57,
   "metadata": {
    "collapsed": true
   },
   "outputs": [],
   "source": [
    "count_df.drop('clean_message',1, inplace=True)\n",
    "count_df.set_index('date',inplace = True)"
   ]
  },
  {
   "cell_type": "code",
   "execution_count": 58,
   "metadata": {
    "collapsed": true
   },
   "outputs": [],
   "source": [
    "count_df.loc['Row_sum'] = count_df.apply(lambda x: x.sum())"
   ]
  },
  {
   "cell_type": "code",
   "execution_count": 67,
   "metadata": {},
   "outputs": [
    {
     "data": {
      "text/plain": [
       "toyata              0\n",
       "subaru           1398\n",
       "buick               0\n",
       "audi              699\n",
       "mercury             0\n",
       "mitsubishi          0\n",
       "chevrolet         699\n",
       "suzuki              0\n",
       "volkswagen          0\n",
       "dodge               0\n",
       "pontiac           699\n",
       "cadillac            0\n",
       "honda               0\n",
       "hyundai          3495\n",
       "ford              699\n",
       "mazda               0\n",
       "mercedes            0\n",
       "infiniti          699\n",
       "bmw              1398\n",
       "hyndai kia          0\n",
       "mercedes-benz       0\n",
       "kia              1398\n",
       "saturn              0\n",
       "kia.                0\n",
       "lincoln             0\n",
       "acura            1398\n",
       "nissan            699\n",
       "toyota            699\n",
       "nissan.             0\n",
       "volvo             699\n",
       "chrysler          699\n",
       "hyundai.            0\n",
       "hyundai,            0\n",
       "volkwagen           0\n",
       "Name: Row_sum, dtype: int64"
      ]
     },
     "execution_count": 67,
     "metadata": {},
     "output_type": "execute_result"
    }
   ],
   "source": [
    "count_df.loc['Row_sum']"
   ]
  },
  {
   "cell_type": "code",
   "execution_count": 59,
   "metadata": {},
   "outputs": [
    {
     "data": {
      "text/plain": [
       "hyundai     3495\n",
       "subaru      1398\n",
       "acura       1398\n",
       "kia         1398\n",
       "bmw         1398\n",
       "pontiac      699\n",
       "infiniti     699\n",
       "chrysler     699\n",
       "volvo        699\n",
       "toyota       699\n",
       "Name: Row_sum, dtype: int64"
      ]
     },
     "execution_count": 59,
     "metadata": {},
     "output_type": "execute_result"
    }
   ],
   "source": [
    "count_series=count_df.T['Row_sum']\n",
    "count_series.sort_values(ascending=False)[:10]"
   ]
  },
  {
   "cell_type": "markdown",
   "metadata": {},
   "source": [
    "### Now, calculate lift ratios for associations between the brands"
   ]
  },
  {
   "cell_type": "code",
   "execution_count": 74,
   "metadata": {
    "collapsed": true
   },
   "outputs": [],
   "source": [
    "count_number=count_df.drop('Row_sum')"
   ]
  },
  {
   "cell_type": "code",
   "execution_count": 75,
   "metadata": {
    "collapsed": true
   },
   "outputs": [],
   "source": [
    "def lift(a, b):\n",
    "    total = len(count_number)  #total message\n",
    "    fraq_a = sum(count_number[a]) # number of message containing A\n",
    "    fraq_b = sum(count_number[b]) # number of message containing B\n",
    "    a_b_df=count_number[[a,b]]\n",
    "    a_b_df['Col_sum'] = a_b_df.apply(lambda x: x.sum(), axis=1)\n",
    "    fraq_a_b=len(a_b_df[a_b_df['Col_sum']==2]) # number of messages containing both A & B\n",
    "    if fraq_a_b==0:\n",
    "        return .1\n",
    "    return round((total*fraq_a_b*1.0)/(fraq_a*fraq_b*1.0),2) #Lift formula"
   ]
  },
  {
   "cell_type": "code",
   "execution_count": 76,
   "metadata": {
    "collapsed": true
   },
   "outputs": [],
   "source": [
    "top_10=set(count_series.sort_values(ascending=False)[:10].index) # top 10 brands by frequency\n",
    "list_10=list(count_series.sort_values(ascending=False)[:10].index) # in a list form"
   ]
  },
  {
   "cell_type": "code",
   "execution_count": 77,
   "metadata": {
    "collapsed": true
   },
   "outputs": [],
   "source": [
    "lift_df=pd.DataFrame(columns=list_10, index=list_10)\n",
    "for i in list_10:\n",
    "    for j in list_10:\n",
    "        lift_df.loc[i,j]=lift(i,j)"
   ]
  },
  {
   "cell_type": "code",
   "execution_count": 78,
   "metadata": {
    "scrolled": true
   },
   "outputs": [
    {
     "data": {
      "text/html": [
       "<div>\n",
       "<style scoped>\n",
       "    .dataframe tbody tr th:only-of-type {\n",
       "        vertical-align: middle;\n",
       "    }\n",
       "\n",
       "    .dataframe tbody tr th {\n",
       "        vertical-align: top;\n",
       "    }\n",
       "\n",
       "    .dataframe thead th {\n",
       "        text-align: right;\n",
       "    }\n",
       "</style>\n",
       "<table border=\"1\" class=\"dataframe\">\n",
       "  <thead>\n",
       "    <tr style=\"text-align: right;\">\n",
       "      <th></th>\n",
       "      <th>hyundai</th>\n",
       "      <th>subaru</th>\n",
       "      <th>acura</th>\n",
       "      <th>kia</th>\n",
       "      <th>bmw</th>\n",
       "      <th>pontiac</th>\n",
       "      <th>infiniti</th>\n",
       "      <th>chrysler</th>\n",
       "      <th>volvo</th>\n",
       "      <th>toyota</th>\n",
       "    </tr>\n",
       "  </thead>\n",
       "  <tbody>\n",
       "    <tr>\n",
       "      <th>hyundai</th>\n",
       "      <td>1.8</td>\n",
       "      <td>1.8</td>\n",
       "      <td>0.9</td>\n",
       "      <td>0.9</td>\n",
       "      <td>0.9</td>\n",
       "      <td>1.8</td>\n",
       "      <td>1.8</td>\n",
       "      <td>0.1</td>\n",
       "      <td>1.8</td>\n",
       "      <td>1.8</td>\n",
       "    </tr>\n",
       "    <tr>\n",
       "      <th>subaru</th>\n",
       "      <td>1.8</td>\n",
       "      <td>4.5</td>\n",
       "      <td>0.1</td>\n",
       "      <td>0.1</td>\n",
       "      <td>2.25</td>\n",
       "      <td>0.1</td>\n",
       "      <td>0.1</td>\n",
       "      <td>0.1</td>\n",
       "      <td>4.5</td>\n",
       "      <td>4.5</td>\n",
       "    </tr>\n",
       "    <tr>\n",
       "      <th>acura</th>\n",
       "      <td>0.9</td>\n",
       "      <td>0.1</td>\n",
       "      <td>4.5</td>\n",
       "      <td>2.25</td>\n",
       "      <td>0.1</td>\n",
       "      <td>4.5</td>\n",
       "      <td>4.5</td>\n",
       "      <td>4.5</td>\n",
       "      <td>0.1</td>\n",
       "      <td>0.1</td>\n",
       "    </tr>\n",
       "    <tr>\n",
       "      <th>kia</th>\n",
       "      <td>0.9</td>\n",
       "      <td>0.1</td>\n",
       "      <td>2.25</td>\n",
       "      <td>4.5</td>\n",
       "      <td>2.25</td>\n",
       "      <td>4.5</td>\n",
       "      <td>4.5</td>\n",
       "      <td>0.1</td>\n",
       "      <td>0.1</td>\n",
       "      <td>0.1</td>\n",
       "    </tr>\n",
       "    <tr>\n",
       "      <th>bmw</th>\n",
       "      <td>0.9</td>\n",
       "      <td>2.25</td>\n",
       "      <td>0.1</td>\n",
       "      <td>2.25</td>\n",
       "      <td>4.5</td>\n",
       "      <td>0.1</td>\n",
       "      <td>0.1</td>\n",
       "      <td>0.1</td>\n",
       "      <td>4.5</td>\n",
       "      <td>4.5</td>\n",
       "    </tr>\n",
       "    <tr>\n",
       "      <th>pontiac</th>\n",
       "      <td>1.8</td>\n",
       "      <td>0.1</td>\n",
       "      <td>4.5</td>\n",
       "      <td>4.5</td>\n",
       "      <td>0.1</td>\n",
       "      <td>9</td>\n",
       "      <td>9</td>\n",
       "      <td>0.1</td>\n",
       "      <td>0.1</td>\n",
       "      <td>0.1</td>\n",
       "    </tr>\n",
       "    <tr>\n",
       "      <th>infiniti</th>\n",
       "      <td>1.8</td>\n",
       "      <td>0.1</td>\n",
       "      <td>4.5</td>\n",
       "      <td>4.5</td>\n",
       "      <td>0.1</td>\n",
       "      <td>9</td>\n",
       "      <td>9</td>\n",
       "      <td>0.1</td>\n",
       "      <td>0.1</td>\n",
       "      <td>0.1</td>\n",
       "    </tr>\n",
       "    <tr>\n",
       "      <th>chrysler</th>\n",
       "      <td>0.1</td>\n",
       "      <td>0.1</td>\n",
       "      <td>4.5</td>\n",
       "      <td>0.1</td>\n",
       "      <td>0.1</td>\n",
       "      <td>0.1</td>\n",
       "      <td>0.1</td>\n",
       "      <td>9</td>\n",
       "      <td>0.1</td>\n",
       "      <td>0.1</td>\n",
       "    </tr>\n",
       "    <tr>\n",
       "      <th>volvo</th>\n",
       "      <td>1.8</td>\n",
       "      <td>4.5</td>\n",
       "      <td>0.1</td>\n",
       "      <td>0.1</td>\n",
       "      <td>4.5</td>\n",
       "      <td>0.1</td>\n",
       "      <td>0.1</td>\n",
       "      <td>0.1</td>\n",
       "      <td>9</td>\n",
       "      <td>9</td>\n",
       "    </tr>\n",
       "    <tr>\n",
       "      <th>toyota</th>\n",
       "      <td>1.8</td>\n",
       "      <td>4.5</td>\n",
       "      <td>0.1</td>\n",
       "      <td>0.1</td>\n",
       "      <td>4.5</td>\n",
       "      <td>0.1</td>\n",
       "      <td>0.1</td>\n",
       "      <td>0.1</td>\n",
       "      <td>9</td>\n",
       "      <td>9</td>\n",
       "    </tr>\n",
       "  </tbody>\n",
       "</table>\n",
       "</div>"
      ],
      "text/plain": [
       "         hyundai subaru acura   kia   bmw pontiac infiniti chrysler volvo  \\\n",
       "hyundai      1.8    1.8   0.9   0.9   0.9     1.8      1.8      0.1   1.8   \n",
       "subaru       1.8    4.5   0.1   0.1  2.25     0.1      0.1      0.1   4.5   \n",
       "acura        0.9    0.1   4.5  2.25   0.1     4.5      4.5      4.5   0.1   \n",
       "kia          0.9    0.1  2.25   4.5  2.25     4.5      4.5      0.1   0.1   \n",
       "bmw          0.9   2.25   0.1  2.25   4.5     0.1      0.1      0.1   4.5   \n",
       "pontiac      1.8    0.1   4.5   4.5   0.1       9        9      0.1   0.1   \n",
       "infiniti     1.8    0.1   4.5   4.5   0.1       9        9      0.1   0.1   \n",
       "chrysler     0.1    0.1   4.5   0.1   0.1     0.1      0.1        9   0.1   \n",
       "volvo        1.8    4.5   0.1   0.1   4.5     0.1      0.1      0.1     9   \n",
       "toyota       1.8    4.5   0.1   0.1   4.5     0.1      0.1      0.1     9   \n",
       "\n",
       "         toyota  \n",
       "hyundai     1.8  \n",
       "subaru      4.5  \n",
       "acura       0.1  \n",
       "kia         0.1  \n",
       "bmw         4.5  \n",
       "pontiac     0.1  \n",
       "infiniti    0.1  \n",
       "chrysler    0.1  \n",
       "volvo         9  \n",
       "toyota        9  "
      ]
     },
     "execution_count": 78,
     "metadata": {},
     "output_type": "execute_result"
    }
   ],
   "source": [
    "lift_df"
   ]
  },
  {
   "cell_type": "markdown",
   "metadata": {},
   "source": [
    "### Show the brands on a multi-dimensional scaling (MDS) map"
   ]
  },
  {
   "cell_type": "code",
   "execution_count": 80,
   "metadata": {
    "collapsed": true
   },
   "outputs": [],
   "source": [
    "from sklearn.manifold import MDS\n",
    "import matplotlib.pyplot as plt\n",
    "\n",
    "dissimilarity = 1/ lift_df\n",
    "adist = np.array(dissimilarity)\n",
    "amax = np.amax(adist)\n",
    "adist /= amax # scaling the dissimilarity matrix\n",
    "\n",
    "mds = MDS(n_components=2,metric=False, dissimilarity=\"precomputed\", random_state=6)\n",
    "results = mds.fit(adist)"
   ]
  },
  {
   "cell_type": "code",
   "execution_count": 81,
   "metadata": {},
   "outputs": [
    {
     "data": {
      "text/html": [
       "<div>\n",
       "<style scoped>\n",
       "    .dataframe tbody tr th:only-of-type {\n",
       "        vertical-align: middle;\n",
       "    }\n",
       "\n",
       "    .dataframe tbody tr th {\n",
       "        vertical-align: top;\n",
       "    }\n",
       "\n",
       "    .dataframe thead th {\n",
       "        text-align: right;\n",
       "    }\n",
       "</style>\n",
       "<table border=\"1\" class=\"dataframe\">\n",
       "  <thead>\n",
       "    <tr style=\"text-align: right;\">\n",
       "      <th></th>\n",
       "      <th>hyundai</th>\n",
       "      <th>subaru</th>\n",
       "      <th>acura</th>\n",
       "      <th>kia</th>\n",
       "      <th>bmw</th>\n",
       "      <th>pontiac</th>\n",
       "      <th>infiniti</th>\n",
       "      <th>chrysler</th>\n",
       "      <th>volvo</th>\n",
       "      <th>toyota</th>\n",
       "    </tr>\n",
       "  </thead>\n",
       "  <tbody>\n",
       "    <tr>\n",
       "      <th>hyundai</th>\n",
       "      <td>0.555556</td>\n",
       "      <td>0.555556</td>\n",
       "      <td>1.11111</td>\n",
       "      <td>1.11111</td>\n",
       "      <td>1.11111</td>\n",
       "      <td>0.555556</td>\n",
       "      <td>0.555556</td>\n",
       "      <td>10</td>\n",
       "      <td>0.555556</td>\n",
       "      <td>0.555556</td>\n",
       "    </tr>\n",
       "    <tr>\n",
       "      <th>subaru</th>\n",
       "      <td>0.555556</td>\n",
       "      <td>0.222222</td>\n",
       "      <td>10</td>\n",
       "      <td>10</td>\n",
       "      <td>0.444444</td>\n",
       "      <td>10</td>\n",
       "      <td>10</td>\n",
       "      <td>10</td>\n",
       "      <td>0.222222</td>\n",
       "      <td>0.222222</td>\n",
       "    </tr>\n",
       "    <tr>\n",
       "      <th>acura</th>\n",
       "      <td>1.11111</td>\n",
       "      <td>10</td>\n",
       "      <td>0.222222</td>\n",
       "      <td>0.444444</td>\n",
       "      <td>10</td>\n",
       "      <td>0.222222</td>\n",
       "      <td>0.222222</td>\n",
       "      <td>0.222222</td>\n",
       "      <td>10</td>\n",
       "      <td>10</td>\n",
       "    </tr>\n",
       "    <tr>\n",
       "      <th>kia</th>\n",
       "      <td>1.11111</td>\n",
       "      <td>10</td>\n",
       "      <td>0.444444</td>\n",
       "      <td>0.222222</td>\n",
       "      <td>0.444444</td>\n",
       "      <td>0.222222</td>\n",
       "      <td>0.222222</td>\n",
       "      <td>10</td>\n",
       "      <td>10</td>\n",
       "      <td>10</td>\n",
       "    </tr>\n",
       "    <tr>\n",
       "      <th>bmw</th>\n",
       "      <td>1.11111</td>\n",
       "      <td>0.444444</td>\n",
       "      <td>10</td>\n",
       "      <td>0.444444</td>\n",
       "      <td>0.222222</td>\n",
       "      <td>10</td>\n",
       "      <td>10</td>\n",
       "      <td>10</td>\n",
       "      <td>0.222222</td>\n",
       "      <td>0.222222</td>\n",
       "    </tr>\n",
       "    <tr>\n",
       "      <th>pontiac</th>\n",
       "      <td>0.555556</td>\n",
       "      <td>10</td>\n",
       "      <td>0.222222</td>\n",
       "      <td>0.222222</td>\n",
       "      <td>10</td>\n",
       "      <td>0.111111</td>\n",
       "      <td>0.111111</td>\n",
       "      <td>10</td>\n",
       "      <td>10</td>\n",
       "      <td>10</td>\n",
       "    </tr>\n",
       "    <tr>\n",
       "      <th>infiniti</th>\n",
       "      <td>0.555556</td>\n",
       "      <td>10</td>\n",
       "      <td>0.222222</td>\n",
       "      <td>0.222222</td>\n",
       "      <td>10</td>\n",
       "      <td>0.111111</td>\n",
       "      <td>0.111111</td>\n",
       "      <td>10</td>\n",
       "      <td>10</td>\n",
       "      <td>10</td>\n",
       "    </tr>\n",
       "    <tr>\n",
       "      <th>chrysler</th>\n",
       "      <td>10</td>\n",
       "      <td>10</td>\n",
       "      <td>0.222222</td>\n",
       "      <td>10</td>\n",
       "      <td>10</td>\n",
       "      <td>10</td>\n",
       "      <td>10</td>\n",
       "      <td>0.111111</td>\n",
       "      <td>10</td>\n",
       "      <td>10</td>\n",
       "    </tr>\n",
       "    <tr>\n",
       "      <th>volvo</th>\n",
       "      <td>0.555556</td>\n",
       "      <td>0.222222</td>\n",
       "      <td>10</td>\n",
       "      <td>10</td>\n",
       "      <td>0.222222</td>\n",
       "      <td>10</td>\n",
       "      <td>10</td>\n",
       "      <td>10</td>\n",
       "      <td>0.111111</td>\n",
       "      <td>0.111111</td>\n",
       "    </tr>\n",
       "    <tr>\n",
       "      <th>toyota</th>\n",
       "      <td>0.555556</td>\n",
       "      <td>0.222222</td>\n",
       "      <td>10</td>\n",
       "      <td>10</td>\n",
       "      <td>0.222222</td>\n",
       "      <td>10</td>\n",
       "      <td>10</td>\n",
       "      <td>10</td>\n",
       "      <td>0.111111</td>\n",
       "      <td>0.111111</td>\n",
       "    </tr>\n",
       "  </tbody>\n",
       "</table>\n",
       "</div>"
      ],
      "text/plain": [
       "           hyundai    subaru     acura       kia       bmw   pontiac  \\\n",
       "hyundai   0.555556  0.555556   1.11111   1.11111   1.11111  0.555556   \n",
       "subaru    0.555556  0.222222        10        10  0.444444        10   \n",
       "acura      1.11111        10  0.222222  0.444444        10  0.222222   \n",
       "kia        1.11111        10  0.444444  0.222222  0.444444  0.222222   \n",
       "bmw        1.11111  0.444444        10  0.444444  0.222222        10   \n",
       "pontiac   0.555556        10  0.222222  0.222222        10  0.111111   \n",
       "infiniti  0.555556        10  0.222222  0.222222        10  0.111111   \n",
       "chrysler        10        10  0.222222        10        10        10   \n",
       "volvo     0.555556  0.222222        10        10  0.222222        10   \n",
       "toyota    0.555556  0.222222        10        10  0.222222        10   \n",
       "\n",
       "          infiniti  chrysler     volvo    toyota  \n",
       "hyundai   0.555556        10  0.555556  0.555556  \n",
       "subaru          10        10  0.222222  0.222222  \n",
       "acura     0.222222  0.222222        10        10  \n",
       "kia       0.222222        10        10        10  \n",
       "bmw             10        10  0.222222  0.222222  \n",
       "pontiac   0.111111        10        10        10  \n",
       "infiniti  0.111111        10        10        10  \n",
       "chrysler        10  0.111111        10        10  \n",
       "volvo           10        10  0.111111  0.111111  \n",
       "toyota          10        10  0.111111  0.111111  "
      ]
     },
     "execution_count": 81,
     "metadata": {},
     "output_type": "execute_result"
    }
   ],
   "source": [
    "dissimilarity # this is the dissimilarity matrix "
   ]
  },
  {
   "cell_type": "code",
   "execution_count": 82,
   "metadata": {},
   "outputs": [
    {
     "data": {
      "image/png": "[encoded data removed]",
      "text/plain": [
       "<Figure size 864x576 with 1 Axes>"
      ]
     },
     "metadata": {
      "needs_background": "light"
     },
     "output_type": "display_data"
    }
   ],
   "source": [
    "# plot MDS\n",
    "plt.figure(figsize=(12,8))\n",
    "plt.scatter(results.embedding_[:,0],results.embedding_[:, 1])\n",
    "\n",
    "#plot the brand name labels\n",
    "for label, x, y in zip(dissimilarity.columns.values, results.embedding_[:, 0], results.embedding_[:, 1]):\n",
    "    plt.annotate(\n",
    "        label,\n",
    "        xy = (x, y), xytext = (-20, 20),\n",
    "        textcoords = 'offset points', ha = 'left', va = 'bottom',\n",
    "        bbox = dict(boxstyle = 'round,pad=.2', fc = 'orange', alpha = 0.6),\n",
    "        arrowprops = dict(arrowstyle = '->', connectionstyle = 'arc3,rad=0'))\n",
    "\n",
    "plt.show()"
   ]
  },
  {
   "cell_type": "markdown",
   "metadata": {},
   "source": [
    "## Task B\n",
    "What insights can you offer brand managers from your analysis in Task A (choose two brands that you can offer the most interesting/useful insights for)? "
   ]
  },
  {
   "cell_type": "markdown",
   "metadata": {},
   "source": [
    "## Task C\n",
    "What are 5 most frequently mentioned attributes of cars in the discussions? Note that the same attribute may be described by different words – e.g., pick-up and acceleration may both refer to a more general attribute, “performance”. You have to make suitable replacements. Now pick the 5 most frequently mentioned brands. Which attributes are most strongly associated with which of these 5 brands? You DON’T have to do a sentiment analysis for this assignment."
   ]
  },
  {
   "cell_type": "code",
   "execution_count": 85,
   "metadata": {
    "collapsed": true
   },
   "outputs": [],
   "source": [
    "import nltk\n",
    "from nltk import pos_tag, word_tokenize\n",
    "from nltk.corpus import stopwords\n",
    "from nltk.probability import FreqDist\n",
    "\n",
    "#get full message\n",
    "full_des = df['clean_message'].sum()\n",
    "\n",
    "#tokenize the message\n",
    "des_words = nltk.word_tokenize(full_des)\n",
    "\n",
    "#get rid of punctuation\n",
    "des_words = [word for word in des_words if word.isalpha()==True]\n",
    "\n",
    "#get the POS \n",
    "filtered_pos = nltk.pos_tag(des_words)"
   ]
  },
  {
   "cell_type": "code",
   "execution_count": 86,
   "metadata": {},
   "outputs": [
    {
     "data": {
      "text/plain": [
       "[('keep', 'VB'),\n",
       " ('around', 'IN'),\n",
       " ('next', 'JJ'),\n",
       " ('fourfive', 'JJ'),\n",
       " ('years', 'NNS'),\n",
       " ('think', 'VBP'),\n",
       " ('make', 'VBP'),\n",
       " ('put', 'VBN'),\n",
       " ('hazmat', 'JJ'),\n",
       " ('suit', 'NN')]"
      ]
     },
     "execution_count": 86,
     "metadata": {},
     "output_type": "execute_result"
    }
   ],
   "source": [
    "filtered_pos[:10]"
   ]
  },
  {
   "cell_type": "markdown",
   "metadata": {},
   "source": [
    "### Lemmentization"
   ]
  },
  {
   "cell_type": "code",
   "execution_count": 89,
   "metadata": {
    "collapsed": true
   },
   "outputs": [],
   "source": [
    "from nltk.stem import WordNetLemmatizer\n",
    "from nltk.corpus import wordnet\n",
    "#create a function that would return WORDNET POS compliance to WORDENT lemmatization (a,n,r,v) \n",
    "def get_wordnet_pos(treebank_tag):\n",
    "    if treebank_tag.startswith('J'):\n",
    "        return wordnet.ADJ\n",
    "    elif treebank_tag.startswith('V'):\n",
    "        return wordnet.VERB\n",
    "    elif treebank_tag.startswith('N'):\n",
    "        return wordnet.NOUN\n",
    "    elif treebank_tag.startswith('R'):\n",
    "         return wordnet.ADV\n",
    "    else:\n",
    "        # As default pos in lemmatization is Noun\n",
    "        return wordnet.NOUN"
   ]
  },
  {
   "cell_type": "code",
   "execution_count": 90,
   "metadata": {
    "collapsed": true
   },
   "outputs": [],
   "source": [
    "wnl = WordNetLemmatizer()\n",
    "#create an empty list to store lemmatized words\n",
    "des_lem = []"
   ]
  },
  {
   "cell_type": "code",
   "execution_count": 91,
   "metadata": {
    "collapsed": true
   },
   "outputs": [],
   "source": [
    "def wn_pos(filtered_pos):\n",
    "    for word,pos in filtered_pos:\n",
    "        des_lem.append(wnl.lemmatize(word,get_wordnet_pos(pos)))\n",
    "        #print pos\n",
    "        #print get_wordnet_pos(pos)\n",
    "    return des_lem"
   ]
  },
  {
   "cell_type": "code",
   "execution_count": 92,
   "metadata": {},
   "outputs": [
    {
     "data": {
      "text/plain": [
       "[('hyundai', 9786),\n",
       " ('would', 7689),\n",
       " ('car', 6990),\n",
       " ('dealer', 6990),\n",
       " ('still', 6291),\n",
       " (u'say', 4893),\n",
       " ('experience', 3495),\n",
       " ('take', 3495),\n",
       " ('track', 3495),\n",
       " (u'sale', 3495),\n",
       " ('stinger', 2796),\n",
       " ('even', 2796),\n",
       " ('use', 2796),\n",
       " ('bmw', 2796),\n",
       " ('store', 2796),\n",
       " ('show', 2097),\n",
       " ('go', 2097),\n",
       " ('local', 2097),\n",
       " ('know', 2097),\n",
       " ('put', 2097),\n",
       " ('hyundia', 2097),\n",
       " ('could', 2097),\n",
       " ('think', 2097),\n",
       " ('visit', 2097),\n",
       " ('today', 2097),\n",
       " (u'look', 2097),\n",
       " (u'want', 2097),\n",
       " ('make', 2097),\n",
       " ('see', 2097),\n",
       " (u'well', 2097),\n",
       " ('giulia', 1398),\n",
       " ('bestwhat', 1398),\n",
       " ('ya', 1398),\n",
       " ('manager', 1398),\n",
       " ('surpass', 1398),\n",
       " ('cold', 1398),\n",
       " ('fine', 1398),\n",
       " ('group', 1398),\n",
       " ('also', 1398),\n",
       " ('less', 1398),\n",
       " ('factor', 1398),\n",
       " ('good', 1398),\n",
       " (u'get', 1398),\n",
       " (u'big', 1398),\n",
       " ('void', 1398),\n",
       " (u'stop', 1398),\n",
       " ('difference', 1398),\n",
       " ('like', 1398),\n",
       " ('drop', 1398),\n",
       " ('rate', 1398),\n",
       " (u'year', 1398),\n",
       " ('best', 1398),\n",
       " ('what', 1398),\n",
       " ('since', 1398),\n",
       " ('current', 1398),\n",
       " ('leap', 1398),\n",
       " (u'dealership', 1398),\n",
       " ('suspect', 1398),\n",
       " ('warranties', 1398),\n",
       " ('lexus', 1398),\n",
       " ('completely', 1398),\n",
       " ('acura', 1398),\n",
       " ('oh', 1398),\n",
       " (u'thing', 1398),\n",
       " ('hopeless', 1398),\n",
       " ('storeand', 1398),\n",
       " (u'own', 1398),\n",
       " ('long', 1398),\n",
       " ('next', 1398),\n",
       " ('hat', 1398),\n",
       " ('lease', 1398),\n",
       " ('proclivity', 1398),\n",
       " ('gas', 1398),\n",
       " ('aware', 1398),\n",
       " ('instructor', 1398),\n",
       " ('afterwards', 1398),\n",
       " ('require', 1398),\n",
       " ('worth', 1398),\n",
       " ('shower', 1398),\n",
       " ('future', 1398),\n",
       " ('problem', 1398),\n",
       " (u'compare', 1398),\n",
       " ('im', 1398),\n",
       " (u'need', 1398),\n",
       " ('different', 1398),\n",
       " ('hot', 1398),\n",
       " ('reputation', 1398),\n",
       " ('subarur', 1398),\n",
       " ('pal', 1398),\n",
       " ('product', 1398),\n",
       " ('mileage', 1398),\n",
       " ('though', 1398),\n",
       " ('two', 1398),\n",
       " ('distinction', 1398),\n",
       " ('kia', 1398),\n",
       " ('assume', 1398),\n",
       " ('time', 1398),\n",
       " ('tchrysler', 700),\n",
       " (u'consider', 699),\n",
       " ('money', 699)]"
      ]
     },
     "execution_count": 92,
     "metadata": {},
     "output_type": "execute_result"
    }
   ],
   "source": [
    "# Get the 10 most common words\n",
    "fdist = nltk.FreqDist(wn_pos(filtered_pos))\n",
    "fdist.most_common(100)"
   ]
  },
  {
   "cell_type": "code",
   "execution_count": null,
   "metadata": {
    "collapsed": true
   },
   "outputs": [],
   "source": []
  }
 ],
 "metadata": {
  "kernelspec": {
   "display_name": "Python 3",
   "language": "python",
   "name": "python3"
  },
  "language_info": {
   "codemirror_mode": {
    "name": "ipython",
    "version": 3
   },
   "file_extension": ".py",
   "mimetype": "text/x-python",
   "name": "python",
   "nbconvert_exporter": "python",
   "pygments_lexer": "ipython3",
   "version": "3.6.6"
  }
 },
 "nbformat": 4,
 "nbformat_minor": 2
}
