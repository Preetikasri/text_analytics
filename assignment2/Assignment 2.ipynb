{
 "cells": [
  {
   "cell_type": "code",
   "execution_count": 2,
   "metadata": {},
   "outputs": [
    {
     "name": "stdout",
     "output_type": "stream",
     "text": [
      "Populating the interactive namespace from numpy and matplotlib\n"
     ]
    }
   ],
   "source": [
    "import statsmodels.api as sm\n",
    "import pandas as pd\n",
    "import re,string\n",
    "import nltk\n",
    "from patsy import dmatrices\n",
    "from nltk.corpus import stopwords\n",
    "from nltk.probability import FreqDist\n",
    "from nltk.stem import WordNetLemmatizer\n",
    "from nltk.corpus import wordnet\n",
    "import matplotlib.pyplot as plt\n",
    "import warnings\n",
    "%pylab inline\n",
    "import numpy as np\n",
    "from sklearn.manifold import MDS\n",
    "from sklearn.metrics import euclidean_distances"
   ]
  },
  {
   "cell_type": "code",
   "execution_count": 3,
   "metadata": {},
   "outputs": [
    {
     "data": {
      "text/html": [
       "<div>\n",
       "<style scoped>\n",
       "    .dataframe tbody tr th:only-of-type {\n",
       "        vertical-align: middle;\n",
       "    }\n",
       "\n",
       "    .dataframe tbody tr th {\n",
       "        vertical-align: top;\n",
       "    }\n",
       "\n",
       "    .dataframe thead th {\n",
       "        text-align: right;\n",
       "    }\n",
       "</style>\n",
       "<table border=\"1\" class=\"dataframe\">\n",
       "  <thead>\n",
       "    <tr style=\"text-align: right;\">\n",
       "      <th></th>\n",
       "      <th>date</th>\n",
       "      <th>username</th>\n",
       "      <th>post</th>\n",
       "      <th>quotes</th>\n",
       "    </tr>\n",
       "  </thead>\n",
       "  <tbody>\n",
       "    <tr>\n",
       "      <th>0</th>\n",
       "      <td>September 7</td>\n",
       "      <td>dino001</td>\n",
       "      <td>If they keep it around in next four-five years...</td>\n",
       "      <td>The lease rate is the factor that stops me col...</td>\n",
       "    </tr>\n",
       "    <tr>\n",
       "      <th>1</th>\n",
       "      <td>September 7</td>\n",
       "      <td>circlew</td>\n",
       "      <td>The lease rate is the factor that stops me col...</td>\n",
       "      <td>show previous quotes\\n\\n\\nThe Stinger is too b...</td>\n",
       "    </tr>\n",
       "    <tr>\n",
       "      <th>2</th>\n",
       "      <td>September 8</td>\n",
       "      <td>qbrozen</td>\n",
       "      <td>circlew said:\\nThe lease rate is the factor th...</td>\n",
       "      <td>NaN</td>\n",
       "    </tr>\n",
       "    <tr>\n",
       "      <th>3</th>\n",
       "      <td>September 9</td>\n",
       "      <td>FlightNurse2</td>\n",
       "      <td>roadburner said:\\nshow previous quotes\\n\\n\\nTh...</td>\n",
       "      <td>Again, the local dealer are hopeless at best(W...</td>\n",
       "    </tr>\n",
       "    <tr>\n",
       "      <th>4</th>\n",
       "      <td>September 9</td>\n",
       "      <td>roadburner</td>\n",
       "      <td>Again, the local dealer are hopeless at best(W...</td>\n",
       "      <td>Thanks, but I am more than aware of the distin...</td>\n",
       "    </tr>\n",
       "  </tbody>\n",
       "</table>\n",
       "</div>"
      ],
      "text/plain": [
       "          date      username  \\\n",
       "0  September 7       dino001   \n",
       "1  September 7       circlew   \n",
       "2  September 8       qbrozen   \n",
       "3  September 9  FlightNurse2   \n",
       "4  September 9    roadburner   \n",
       "\n",
       "                                                post  \\\n",
       "0  If they keep it around in next four-five years...   \n",
       "1  The lease rate is the factor that stops me col...   \n",
       "2  circlew said:\\nThe lease rate is the factor th...   \n",
       "3  roadburner said:\\nshow previous quotes\\n\\n\\nTh...   \n",
       "4  Again, the local dealer are hopeless at best(W...   \n",
       "\n",
       "                                              quotes  \n",
       "0  The lease rate is the factor that stops me col...  \n",
       "1  show previous quotes\\n\\n\\nThe Stinger is too b...  \n",
       "2                                                NaN  \n",
       "3  Again, the local dealer are hopeless at best(W...  \n",
       "4  Thanks, but I am more than aware of the distin...  "
      ]
     },
     "execution_count": 3,
     "metadata": {},
     "output_type": "execute_result"
    }
   ],
   "source": [
    "df = pd.read_csv(\"edmunds_comments.csv\",  encoding='utf-8')\n",
    "df.head()"
   ]
  },
  {
   "cell_type": "code",
   "execution_count": 4,
   "metadata": {},
   "outputs": [],
   "source": [
    "#clean punctuation and white spaces\n",
    "df[\"post_clean\"] = df.post.apply(lambda x:re.sub(r\"[^a-zA-Z0-9\\s]\", \" \", x.lower()))\n",
    "df[\"post_clean\"] = df.post_clean.apply(lambda x:re.sub(r\"\\n\", \" \", x.lower()))\n",
    "df[\"post_clean\"] = df.post_clean.apply(lambda x:re.sub(r'\\s+', ' ', x))"
   ]
  },
  {
   "cell_type": "code",
   "execution_count": 5,
   "metadata": {},
   "outputs": [],
   "source": [
    "#removing stop words\n",
    "stop = set(stopwords.words('english'))\n",
    "df['post_clean'] = df.post_clean.apply(lambda x: [word for word in x.split() if word not in stop])"
   ]
  },
  {
   "cell_type": "code",
   "execution_count": 6,
   "metadata": {},
   "outputs": [
    {
     "data": {
      "text/html": [
       "<div>\n",
       "<style scoped>\n",
       "    .dataframe tbody tr th:only-of-type {\n",
       "        vertical-align: middle;\n",
       "    }\n",
       "\n",
       "    .dataframe tbody tr th {\n",
       "        vertical-align: top;\n",
       "    }\n",
       "\n",
       "    .dataframe thead th {\n",
       "        text-align: right;\n",
       "    }\n",
       "</style>\n",
       "<table border=\"1\" class=\"dataframe\">\n",
       "  <thead>\n",
       "    <tr style=\"text-align: right;\">\n",
       "      <th></th>\n",
       "      <th>date</th>\n",
       "      <th>username</th>\n",
       "      <th>post</th>\n",
       "      <th>quotes</th>\n",
       "      <th>post_clean</th>\n",
       "    </tr>\n",
       "  </thead>\n",
       "  <tbody>\n",
       "    <tr>\n",
       "      <th>0</th>\n",
       "      <td>September 7</td>\n",
       "      <td>dino001</td>\n",
       "      <td>If they keep it around in next four-five years...</td>\n",
       "      <td>The lease rate is the factor that stops me col...</td>\n",
       "      <td>[keep, around, next, four, five, years, think,...</td>\n",
       "    </tr>\n",
       "    <tr>\n",
       "      <th>1</th>\n",
       "      <td>September 7</td>\n",
       "      <td>circlew</td>\n",
       "      <td>The lease rate is the factor that stops me col...</td>\n",
       "      <td>show previous quotes\\n\\n\\nThe Stinger is too b...</td>\n",
       "      <td>[lease, rate, factor, stops, cold, taking, lea...</td>\n",
       "    </tr>\n",
       "    <tr>\n",
       "      <th>2</th>\n",
       "      <td>September 8</td>\n",
       "      <td>qbrozen</td>\n",
       "      <td>circlew said:\\nThe lease rate is the factor th...</td>\n",
       "      <td>NaN</td>\n",
       "      <td>[circlew, said, lease, rate, factor, stops, co...</td>\n",
       "    </tr>\n",
       "    <tr>\n",
       "      <th>3</th>\n",
       "      <td>September 9</td>\n",
       "      <td>FlightNurse2</td>\n",
       "      <td>roadburner said:\\nshow previous quotes\\n\\n\\nTh...</td>\n",
       "      <td>Again, the local dealer are hopeless at best(W...</td>\n",
       "      <td>[roadburner, said, show, previous, quotes, sti...</td>\n",
       "    </tr>\n",
       "    <tr>\n",
       "      <th>4</th>\n",
       "      <td>September 9</td>\n",
       "      <td>roadburner</td>\n",
       "      <td>Again, the local dealer are hopeless at best(W...</td>\n",
       "      <td>Thanks, but I am more than aware of the distin...</td>\n",
       "      <td>[local, dealer, hopeless, best, put, ya, car, ...</td>\n",
       "    </tr>\n",
       "    <tr>\n",
       "      <th>5</th>\n",
       "      <td>September 9</td>\n",
       "      <td>FlightNurse2</td>\n",
       "      <td>roadburner said:\\nAgain, the local dealer are ...</td>\n",
       "      <td>I am the poster formerly known as benjaminh an...</td>\n",
       "      <td>[roadburner, said, local, dealer, hopeless, be...</td>\n",
       "    </tr>\n",
       "    <tr>\n",
       "      <th>6</th>\n",
       "      <td>September 9</td>\n",
       "      <td>roadburner</td>\n",
       "      <td>Thanks, but I am more than aware of the distin...</td>\n",
       "      <td>show previous quotes\\nI sent you a message</td>\n",
       "      <td>[thanks, aware, distinction, dealer, group, ow...</td>\n",
       "    </tr>\n",
       "    <tr>\n",
       "      <th>7</th>\n",
       "      <td>September 9</td>\n",
       "      <td>dino001</td>\n",
       "      <td>roadburner said:\\nThanks, but I am more than a...</td>\n",
       "      <td>NaN</td>\n",
       "      <td>[roadburner, said, thanks, aware, distinction,...</td>\n",
       "    </tr>\n",
       "    <tr>\n",
       "      <th>8</th>\n",
       "      <td>September 24</td>\n",
       "      <td>benjaminhf</td>\n",
       "      <td>I am the poster formerly known as benjaminh an...</td>\n",
       "      <td>If I do manage to upgrade to a TLX it would ha...</td>\n",
       "      <td>[poster, formerly, known, benjaminh, benjaminh...</td>\n",
       "    </tr>\n",
       "    <tr>\n",
       "      <th>9</th>\n",
       "      <td>September 24</td>\n",
       "      <td>stickguy</td>\n",
       "      <td>Still on the list. Just have not been looking ...</td>\n",
       "      <td>The fine lrint for all says \"plus dealer add-o...</td>\n",
       "      <td>[still, list, looking, actively, right]</td>\n",
       "    </tr>\n",
       "    <tr>\n",
       "      <th>10</th>\n",
       "      <td>September 24</td>\n",
       "      <td>kyfdx</td>\n",
       "      <td>benjaminhf said:\\nI am the poster formerly kno...</td>\n",
       "      <td>The CTS looks like a smokin’n deal if your nam...</td>\n",
       "      <td>[benjaminhf, said, poster, formerly, known, be...</td>\n",
       "    </tr>\n",
       "    <tr>\n",
       "      <th>11</th>\n",
       "      <td>August 7</td>\n",
       "      <td>benjaminh</td>\n",
       "      <td>One of the features I like on my TLX's stereo ...</td>\n",
       "      <td>One of the features I like on my TLX's stereo ...</td>\n",
       "      <td>[one, features, like, tlx, stereo, built, memo...</td>\n",
       "    </tr>\n",
       "    <tr>\n",
       "      <th>12</th>\n",
       "      <td>August 8</td>\n",
       "      <td>andres3</td>\n",
       "      <td>benjaminh said:\\nOne of the features I like on...</td>\n",
       "      <td>....What's the storage capacity in GB? If unco...</td>\n",
       "      <td>[benjaminh, said, one, features, like, tlx, st...</td>\n",
       "    </tr>\n",
       "    <tr>\n",
       "      <th>13</th>\n",
       "      <td>August 8</td>\n",
       "      <td>benjaminh</td>\n",
       "      <td>andres3 said:\\n....What's the storage capacity...</td>\n",
       "      <td>show previous quotes\\nGood questions. Tried to...</td>\n",
       "      <td>[andres3, said, storage, capacity, gb, uncompr...</td>\n",
       "    </tr>\n",
       "    <tr>\n",
       "      <th>14</th>\n",
       "      <td>August 8</td>\n",
       "      <td>sda</td>\n",
       "      <td>benjaminh said:\\nshow previous quotes\\nGood qu...</td>\n",
       "      <td>NaN</td>\n",
       "      <td>[benjaminh, said, show, previous, quotes, good...</td>\n",
       "    </tr>\n",
       "    <tr>\n",
       "      <th>15</th>\n",
       "      <td>August 8</td>\n",
       "      <td>henryn</td>\n",
       "      <td>Back in the late 80's or early 90's (don't rem...</td>\n",
       "      <td>Back in the late 80's or early 90's (don't rem...</td>\n",
       "      <td>[back, late, 80, early, 90, remember, year, do...</td>\n",
       "    </tr>\n",
       "    <tr>\n",
       "      <th>16</th>\n",
       "      <td>August 8</td>\n",
       "      <td>roadburner</td>\n",
       "      <td>The hard drives in late model BMWs have a 20GB...</td>\n",
       "      <td>show previous quotes\\n\\n\\n\\nThat's cool as I s...</td>\n",
       "      <td>[hard, drives, late, model, bmws, 20gb, storag...</td>\n",
       "    </tr>\n",
       "    <tr>\n",
       "      <th>17</th>\n",
       "      <td>August 8</td>\n",
       "      <td>Michaell</td>\n",
       "      <td>henryn said:\\nBack in the late 80's or early 9...</td>\n",
       "      <td>NaN</td>\n",
       "      <td>[henryn, said, back, late, 80, early, 90, reme...</td>\n",
       "    </tr>\n",
       "    <tr>\n",
       "      <th>18</th>\n",
       "      <td>August 8</td>\n",
       "      <td>Mr_Shiftright</td>\n",
       "      <td>sda said:\\nshow previous quotes\\n\\n\\n\\nThat's ...</td>\n",
       "      <td>NaN</td>\n",
       "      <td>[sda, said, show, previous, quotes, cool, stil...</td>\n",
       "    </tr>\n",
       "    <tr>\n",
       "      <th>19</th>\n",
       "      <td>August 8</td>\n",
       "      <td>Michaell</td>\n",
       "      <td>Mr_Shiftright said:\\nshow previous quotes\\n\\n\\...</td>\n",
       "      <td>show previous quotes\\n\\n\\n\\n\\n\\nFunny...I just...</td>\n",
       "      <td>[mr, shiftright, said, show, previous, quotes,...</td>\n",
       "    </tr>\n",
       "  </tbody>\n",
       "</table>\n",
       "</div>"
      ],
      "text/plain": [
       "            date       username  \\\n",
       "0    September 7        dino001   \n",
       "1    September 7        circlew   \n",
       "2    September 8        qbrozen   \n",
       "3    September 9   FlightNurse2   \n",
       "4    September 9     roadburner   \n",
       "5    September 9   FlightNurse2   \n",
       "6    September 9     roadburner   \n",
       "7    September 9        dino001   \n",
       "8   September 24     benjaminhf   \n",
       "9   September 24       stickguy   \n",
       "10  September 24          kyfdx   \n",
       "11      August 7      benjaminh   \n",
       "12      August 8        andres3   \n",
       "13      August 8      benjaminh   \n",
       "14      August 8            sda   \n",
       "15      August 8         henryn   \n",
       "16      August 8     roadburner   \n",
       "17      August 8       Michaell   \n",
       "18      August 8  Mr_Shiftright   \n",
       "19      August 8       Michaell   \n",
       "\n",
       "                                                 post  \\\n",
       "0   If they keep it around in next four-five years...   \n",
       "1   The lease rate is the factor that stops me col...   \n",
       "2   circlew said:\\nThe lease rate is the factor th...   \n",
       "3   roadburner said:\\nshow previous quotes\\n\\n\\nTh...   \n",
       "4   Again, the local dealer are hopeless at best(W...   \n",
       "5   roadburner said:\\nAgain, the local dealer are ...   \n",
       "6   Thanks, but I am more than aware of the distin...   \n",
       "7   roadburner said:\\nThanks, but I am more than a...   \n",
       "8   I am the poster formerly known as benjaminh an...   \n",
       "9   Still on the list. Just have not been looking ...   \n",
       "10  benjaminhf said:\\nI am the poster formerly kno...   \n",
       "11  One of the features I like on my TLX's stereo ...   \n",
       "12  benjaminh said:\\nOne of the features I like on...   \n",
       "13  andres3 said:\\n....What's the storage capacity...   \n",
       "14  benjaminh said:\\nshow previous quotes\\nGood qu...   \n",
       "15  Back in the late 80's or early 90's (don't rem...   \n",
       "16  The hard drives in late model BMWs have a 20GB...   \n",
       "17  henryn said:\\nBack in the late 80's or early 9...   \n",
       "18  sda said:\\nshow previous quotes\\n\\n\\n\\nThat's ...   \n",
       "19  Mr_Shiftright said:\\nshow previous quotes\\n\\n\\...   \n",
       "\n",
       "                                               quotes  \\\n",
       "0   The lease rate is the factor that stops me col...   \n",
       "1   show previous quotes\\n\\n\\nThe Stinger is too b...   \n",
       "2                                                 NaN   \n",
       "3   Again, the local dealer are hopeless at best(W...   \n",
       "4   Thanks, but I am more than aware of the distin...   \n",
       "5   I am the poster formerly known as benjaminh an...   \n",
       "6          show previous quotes\\nI sent you a message   \n",
       "7                                                 NaN   \n",
       "8   If I do manage to upgrade to a TLX it would ha...   \n",
       "9   The fine lrint for all says \"plus dealer add-o...   \n",
       "10  The CTS looks like a smokin’n deal if your nam...   \n",
       "11  One of the features I like on my TLX's stereo ...   \n",
       "12  ....What's the storage capacity in GB? If unco...   \n",
       "13  show previous quotes\\nGood questions. Tried to...   \n",
       "14                                                NaN   \n",
       "15  Back in the late 80's or early 90's (don't rem...   \n",
       "16  show previous quotes\\n\\n\\n\\nThat's cool as I s...   \n",
       "17                                                NaN   \n",
       "18                                                NaN   \n",
       "19  show previous quotes\\n\\n\\n\\n\\n\\nFunny...I just...   \n",
       "\n",
       "                                           post_clean  \n",
       "0   [keep, around, next, four, five, years, think,...  \n",
       "1   [lease, rate, factor, stops, cold, taking, lea...  \n",
       "2   [circlew, said, lease, rate, factor, stops, co...  \n",
       "3   [roadburner, said, show, previous, quotes, sti...  \n",
       "4   [local, dealer, hopeless, best, put, ya, car, ...  \n",
       "5   [roadburner, said, local, dealer, hopeless, be...  \n",
       "6   [thanks, aware, distinction, dealer, group, ow...  \n",
       "7   [roadburner, said, thanks, aware, distinction,...  \n",
       "8   [poster, formerly, known, benjaminh, benjaminh...  \n",
       "9             [still, list, looking, actively, right]  \n",
       "10  [benjaminhf, said, poster, formerly, known, be...  \n",
       "11  [one, features, like, tlx, stereo, built, memo...  \n",
       "12  [benjaminh, said, one, features, like, tlx, st...  \n",
       "13  [andres3, said, storage, capacity, gb, uncompr...  \n",
       "14  [benjaminh, said, show, previous, quotes, good...  \n",
       "15  [back, late, 80, early, 90, remember, year, do...  \n",
       "16  [hard, drives, late, model, bmws, 20gb, storag...  \n",
       "17  [henryn, said, back, late, 80, early, 90, reme...  \n",
       "18  [sda, said, show, previous, quotes, cool, stil...  \n",
       "19  [mr, shiftright, said, show, previous, quotes,...  "
      ]
     },
     "execution_count": 6,
     "metadata": {},
     "output_type": "execute_result"
    }
   ],
   "source": [
    "df.head(20)"
   ]
  },
  {
   "cell_type": "markdown",
   "metadata": {},
   "source": [
    "### Replacing model with make in the corpus"
   ]
  },
  {
   "cell_type": "code",
   "execution_count": 7,
   "metadata": {},
   "outputs": [
    {
     "data": {
      "text/plain": [
       "make      object\n",
       "model1    object\n",
       "dtype: object"
      ]
     },
     "execution_count": 7,
     "metadata": {},
     "output_type": "execute_result"
    }
   ],
   "source": [
    "#importing model list\n",
    "car_models = pd.read_csv(\"car_models_curated_V2.csv\", )\n",
    "car_models.head()\n",
    "car_models.dtypes"
   ]
  },
  {
   "cell_type": "code",
   "execution_count": 8,
   "metadata": {},
   "outputs": [],
   "source": [
    "car_models[\"model1\"]=car_models[\"model1\"].astype(str)\n",
    "car_models[\"make\"] = car_models[\"make\"].apply(lambda x:re.sub(r\"[^\\w\\s]\", \"\", x.lower()))\n",
    "car_models[\"model1\"] = car_models[\"model1\"].map(lambda x:re.sub(r\"[^\\w\\s]\", \"\", x.lower()))"
   ]
  },
  {
   "cell_type": "code",
   "execution_count": 9,
   "metadata": {},
   "outputs": [
    {
     "name": "stderr",
     "output_type": "stream",
     "text": [
      "C:\\Users\\abhin\\Anaconda2\\envs\\Python3\\lib\\site-packages\\ipykernel_launcher.py:3: UserWarning: DataFrame columns are not unique, some columns will be omitted.\n",
      "  This is separate from the ipykernel package so we can avoid doing imports until\n"
     ]
    },
    {
     "data": {
      "text/plain": [
       "'volkswagen'"
      ]
     },
     "execution_count": 9,
     "metadata": {},
     "output_type": "execute_result"
    }
   ],
   "source": [
    "#converting into dictionary\n",
    "#This will help in identifying make for corresponding model\n",
    "car_dict = car_models.set_index('model1').transpose().to_dict()\n",
    "model = \"beetle\"\n",
    "car_dict[model]['make']"
   ]
  },
  {
   "cell_type": "code",
   "execution_count": 10,
   "metadata": {},
   "outputs": [],
   "source": [
    "#replace model with make\n",
    "model1 = set(car_models[\"model1\"])\n",
    "df[\"post_c2\"] = df.post_clean.map(lambda x: [car_dict[i]['make'] if i in model1 else i for i in x])"
   ]
  },
  {
   "cell_type": "code",
   "execution_count": 11,
   "metadata": {},
   "outputs": [],
   "source": [
    "#lemmatizing\n",
    "#need to get POS for lemmatizing\n",
    "#create a function that would return WORDNET POS compliance to WORDENT lemmatization (a,n,r,v) \n",
    "#wnl = WordNetLemmatizer()\n",
    "#df['post_lema'] = df.post_clean.apply(lambda x: [wnl.lemmatize(word) for word in x])"
   ]
  },
  {
   "cell_type": "markdown",
   "metadata": {},
   "source": [
    "### Checking frequency for all values"
   ]
  },
  {
   "cell_type": "code",
   "execution_count": 12,
   "metadata": {},
   "outputs": [],
   "source": [
    "#getting frequency distribution\n",
    "car_posts = df['post_c2'].sum()"
   ]
  },
  {
   "cell_type": "code",
   "execution_count": 13,
   "metadata": {},
   "outputs": [],
   "source": [
    "all_words = nltk.FreqDist(car_posts)\n",
    "rslt_all = pd.DataFrame.from_dict(all_words,orient='index').reset_index()\n",
    "rslt_all.columns = ['word','frequency']"
   ]
  },
  {
   "cell_type": "markdown",
   "metadata": {},
   "source": [
    "### Most popular brands (all)"
   ]
  },
  {
   "cell_type": "code",
   "execution_count": 14,
   "metadata": {},
   "outputs": [
    {
     "data": {
      "text/html": [
       "<div>\n",
       "<style scoped>\n",
       "    .dataframe tbody tr th:only-of-type {\n",
       "        vertical-align: middle;\n",
       "    }\n",
       "\n",
       "    .dataframe tbody tr th {\n",
       "        vertical-align: top;\n",
       "    }\n",
       "\n",
       "    .dataframe thead th {\n",
       "        text-align: right;\n",
       "    }\n",
       "</style>\n",
       "<table border=\"1\" class=\"dataframe\">\n",
       "  <thead>\n",
       "    <tr style=\"text-align: right;\">\n",
       "      <th></th>\n",
       "      <th>word</th>\n",
       "      <th>frequency</th>\n",
       "    </tr>\n",
       "  </thead>\n",
       "  <tbody>\n",
       "    <tr>\n",
       "      <th>33</th>\n",
       "      <td>bmw</td>\n",
       "      <td>239</td>\n",
       "    </tr>\n",
       "    <tr>\n",
       "      <th>156</th>\n",
       "      <td>acura</td>\n",
       "      <td>208</td>\n",
       "    </tr>\n",
       "    <tr>\n",
       "      <th>212</th>\n",
       "      <td>audi</td>\n",
       "      <td>159</td>\n",
       "    </tr>\n",
       "    <tr>\n",
       "      <th>117</th>\n",
       "      <td>polaris</td>\n",
       "      <td>121</td>\n",
       "    </tr>\n",
       "    <tr>\n",
       "      <th>13</th>\n",
       "      <td>kia</td>\n",
       "      <td>111</td>\n",
       "    </tr>\n",
       "    <tr>\n",
       "      <th>209</th>\n",
       "      <td>honda</td>\n",
       "      <td>110</td>\n",
       "    </tr>\n",
       "    <tr>\n",
       "      <th>793</th>\n",
       "      <td>volkswagen</td>\n",
       "      <td>57</td>\n",
       "    </tr>\n",
       "    <tr>\n",
       "      <th>159</th>\n",
       "      <td>kymco</td>\n",
       "      <td>51</td>\n",
       "    </tr>\n",
       "    <tr>\n",
       "      <th>114</th>\n",
       "      <td>triumph</td>\n",
       "      <td>41</td>\n",
       "    </tr>\n",
       "    <tr>\n",
       "      <th>4</th>\n",
       "      <td>ford</td>\n",
       "      <td>39</td>\n",
       "    </tr>\n",
       "  </tbody>\n",
       "</table>\n",
       "</div>"
      ],
      "text/plain": [
       "           word  frequency\n",
       "33          bmw        239\n",
       "156       acura        208\n",
       "212        audi        159\n",
       "117     polaris        121\n",
       "13          kia        111\n",
       "209       honda        110\n",
       "793  volkswagen         57\n",
       "159       kymco         51\n",
       "114     triumph         41\n",
       "4          ford         39"
      ]
     },
     "execution_count": 14,
     "metadata": {},
     "output_type": "execute_result"
    }
   ],
   "source": [
    "rslt_all[rslt_all['word'].isin(car_models[\"make\"])].nlargest(10,'frequency')"
   ]
  },
  {
   "cell_type": "markdown",
   "metadata": {},
   "source": [
    "### Taking unique values (using set)"
   ]
  },
  {
   "cell_type": "code",
   "execution_count": 15,
   "metadata": {},
   "outputs": [],
   "source": [
    "cars_unique = df.post_c2.map(lambda x:[ \"\".join(word) for word in sorted(set(x))]).sum() "
   ]
  },
  {
   "cell_type": "code",
   "execution_count": 16,
   "metadata": {},
   "outputs": [],
   "source": [
    "unique_words = nltk.FreqDist(cars_unique)\n",
    "rslt_unique = pd.DataFrame.from_dict(unique_words,orient='index').reset_index()\n",
    "rslt_unique.columns = ['word','frequency']"
   ]
  },
  {
   "cell_type": "markdown",
   "metadata": {},
   "source": [
    "### Most popular brands (unique)"
   ]
  },
  {
   "cell_type": "code",
   "execution_count": 17,
   "metadata": {},
   "outputs": [
    {
     "data": {
      "text/html": [
       "<div>\n",
       "<style scoped>\n",
       "    .dataframe tbody tr th:only-of-type {\n",
       "        vertical-align: middle;\n",
       "    }\n",
       "\n",
       "    .dataframe tbody tr th {\n",
       "        vertical-align: top;\n",
       "    }\n",
       "\n",
       "    .dataframe thead th {\n",
       "        text-align: right;\n",
       "    }\n",
       "</style>\n",
       "<table border=\"1\" class=\"dataframe\">\n",
       "  <thead>\n",
       "    <tr style=\"text-align: right;\">\n",
       "      <th></th>\n",
       "      <th>word</th>\n",
       "      <th>frequency</th>\n",
       "    </tr>\n",
       "  </thead>\n",
       "  <tbody>\n",
       "    <tr>\n",
       "      <th>7</th>\n",
       "      <td>bmw</td>\n",
       "      <td>120</td>\n",
       "    </tr>\n",
       "    <tr>\n",
       "      <th>145</th>\n",
       "      <td>acura</td>\n",
       "      <td>83</td>\n",
       "    </tr>\n",
       "    <tr>\n",
       "      <th>111</th>\n",
       "      <td>polaris</td>\n",
       "      <td>79</td>\n",
       "    </tr>\n",
       "    <tr>\n",
       "      <th>197</th>\n",
       "      <td>audi</td>\n",
       "      <td>78</td>\n",
       "    </tr>\n",
       "    <tr>\n",
       "      <th>219</th>\n",
       "      <td>honda</td>\n",
       "      <td>57</td>\n",
       "    </tr>\n",
       "    <tr>\n",
       "      <th>33</th>\n",
       "      <td>kia</td>\n",
       "      <td>52</td>\n",
       "    </tr>\n",
       "    <tr>\n",
       "      <th>160</th>\n",
       "      <td>kymco</td>\n",
       "      <td>44</td>\n",
       "    </tr>\n",
       "    <tr>\n",
       "      <th>817</th>\n",
       "      <td>volkswagen</td>\n",
       "      <td>37</td>\n",
       "    </tr>\n",
       "    <tr>\n",
       "      <th>124</th>\n",
       "      <td>triumph</td>\n",
       "      <td>31</td>\n",
       "    </tr>\n",
       "    <tr>\n",
       "      <th>101</th>\n",
       "      <td>cub cadet</td>\n",
       "      <td>30</td>\n",
       "    </tr>\n",
       "  </tbody>\n",
       "</table>\n",
       "</div>"
      ],
      "text/plain": [
       "           word  frequency\n",
       "7           bmw        120\n",
       "145       acura         83\n",
       "111     polaris         79\n",
       "197        audi         78\n",
       "219       honda         57\n",
       "33          kia         52\n",
       "160       kymco         44\n",
       "817  volkswagen         37\n",
       "124     triumph         31\n",
       "101   cub cadet         30"
      ]
     },
     "execution_count": 17,
     "metadata": {},
     "output_type": "execute_result"
    }
   ],
   "source": [
    "rslt_unique[rslt_unique['word'].isin(car_models[\"make\"])].nlargest(10,'frequency')"
   ]
  },
  {
   "cell_type": "markdown",
   "metadata": {},
   "source": [
    "### Calculate Lift Ratio"
   ]
  },
  {
   "cell_type": "markdown",
   "metadata": {},
   "source": [
    "Identify top 10 brands by frequency. From the posts, calculate lift ratios for associations between the brands. You will have to write a script to do this task). Show the brands on a multi-dimensional scaling (MDS) map (use a Python script for MDS, there are multiple scripts available on the Internet). "
   ]
  },
  {
   "cell_type": "code",
   "execution_count": 29,
   "metadata": {},
   "outputs": [],
   "source": [
    "def ratio(a, b):\n",
    "    a = float(a)\n",
    "    b = float(b)\n",
    "    if b == 0:\n",
    "        return a\n",
    "    return ratio(b, a % b)\n",
    "\n",
    "#returns a string with ratio\n",
    "def get_ratio(a, b):\n",
    "    r = ratio(a, b)\n",
    "    return \"%s\" % float((a/r) / (b/r))"
   ]
  },
  {
   "cell_type": "code",
   "execution_count": 121,
   "metadata": {},
   "outputs": [],
   "source": [
    "#selecting top brands\n",
    "def create_mds(num_brands):\n",
    "    top_brands = rslt_unique[rslt_unique['word'].isin(car_models[\"make\"])].nlargest(num_brands,'frequency')\n",
    "    car_make_df = pd.DataFrame()\n",
    "    car_make_df['brand1'] = [x for x in top_brands.word for y in top_brands.word] #if x!=y]\n",
    "    car_make_df['brand2'] = [y for x in top_brands.word for y in top_brands.word] #if x!=y]\n",
    "    car_make_df['ratio'] = [get_ratio(x,y) for x in top_brands.frequency for y in top_brands.frequency] #if x!=y]\n",
    "    xdf = car_make_df.pivot(index=\"brand1\",columns=\"brand2\",values=\"ratio\")\n",
    "    mds = MDS(n_components=2,random_state=6)\n",
    "    similarities = euclidean_distances(xdf.values.astype(np.float32))\n",
    "    res = mds.fit(xdf.values.astype(np.float64))\n",
    "    return(xdf,res)   "
   ]
  },
  {
   "cell_type": "code",
   "execution_count": 101,
   "metadata": {},
   "outputs": [],
   "source": [
    "def plot_mds(xdf,res):\n",
    "    plt.figure(figsize=(12,8))\n",
    "    plt.scatter(res.embedding_[:,0],res.embedding_[:, 1])\n",
    "\n",
    "    #plot the brand name labels\n",
    "    for label, x, y in zip(xdf.columns.values, res.embedding_[:, 0], res.embedding_[:, 1]):\n",
    "        plt.annotate(label,xy = (x, y), xytext = (-20, 20),textcoords = 'offset points', ha = 'left', va = 'bottom',\n",
    "                     bbox = dict(boxstyle = 'round,pad=.2', fc = 'orange', alpha = 0.6),\n",
    "                     arrowprops = dict(arrowstyle = '->', connectionstyle = 'arc3,rad=0'))\n",
    "        plt.show()"
   ]
  },
  {
   "cell_type": "markdown",
   "metadata": {},
   "source": [
    "### Insights"
   ]
  },
  {
   "cell_type": "code",
   "execution_count": 124,
   "metadata": {},
   "outputs": [
    {
     "name": "stderr",
     "output_type": "stream",
     "text": [
      "C:\\Users\\abhin\\Anaconda2\\envs\\Python3\\lib\\site-packages\\sklearn\\manifold\\mds.py:411: UserWarning: The MDS API has changed. ``fit`` now constructs an dissimilarity matrix from data. To use a custom dissimilarity matrix, set ``dissimilarity='precomputed'``.\n",
      "  warnings.warn(\"The MDS API has changed. ``fit`` now constructs an\"\n"
     ]
    },
    {
     "data": {
      "image/png": "[encoded data removed]",
      "text/plain": [
       "<Figure size 864x576 with 1 Axes>"
      ]
     },
     "metadata": {},
     "output_type": "display_data"
    }
   ],
   "source": [
    "# plot MDS top 10\n",
    "lift_df, results = create_mds(num_brands = 10)\n",
    "plt_mds(lift_df, results)"
   ]
  },
  {
   "cell_type": "code",
   "execution_count": 125,
   "metadata": {},
   "outputs": [
    {
     "name": "stderr",
     "output_type": "stream",
     "text": [
      "C:\\Users\\abhin\\Anaconda2\\envs\\Python3\\lib\\site-packages\\sklearn\\manifold\\mds.py:411: UserWarning: The MDS API has changed. ``fit`` now constructs an dissimilarity matrix from data. To use a custom dissimilarity matrix, set ``dissimilarity='precomputed'``.\n",
      "  warnings.warn(\"The MDS API has changed. ``fit`` now constructs an\"\n"
     ]
    },
    {
     "data": {
      "image/png": "[encoded data removed]",
      "text/plain": [
       "<Figure size 864x576 with 1 Axes>"
      ]
     },
     "metadata": {},
     "output_type": "display_data"
    }
   ],
   "source": [
    "# plot MDS top 50\n",
    "lift_df, results = create_mds(num_brands = 50)\n",
    "plt_mds(lift_df, results)"
   ]
  },
  {
   "cell_type": "markdown",
   "metadata": {},
   "source": [
    "### Frequently mentioned attributes for cars"
   ]
  },
  {
   "cell_type": "markdown",
   "metadata": {},
   "source": [
    "Now pick the 5 most frequently mentioned brands. Which attributes are most strongly associated with which of these 5 brands? "
   ]
  },
  {
   "cell_type": "code",
   "execution_count": null,
   "metadata": {},
   "outputs": [],
   "source": []
  },
  {
   "cell_type": "markdown",
   "metadata": {},
   "source": [
    "### While BMW has claimed that they are the “ultimate driving machine”, is that how people feel on Edmunds? Show your analysis.   "
   ]
  },
  {
   "cell_type": "code",
   "execution_count": null,
   "metadata": {},
   "outputs": [],
   "source": []
  },
  {
   "cell_type": "markdown",
   "metadata": {},
   "source": [
    "### Advice to (i) product manager, and (ii) marketing/advertising manager of these brands based on attribute relations"
   ]
  },
  {
   "cell_type": "code",
   "execution_count": null,
   "metadata": {},
   "outputs": [],
   "source": []
  },
  {
   "cell_type": "markdown",
   "metadata": {},
   "source": [
    "### Most aspirational brand in your data in terms of people actually wanting to buy or own? Describe your analysis. What are the business implications for this brand?"
   ]
  },
  {
   "cell_type": "code",
   "execution_count": null,
   "metadata": {},
   "outputs": [],
   "source": []
  },
  {
   "cell_type": "code",
   "execution_count": null,
   "metadata": {},
   "outputs": [],
   "source": []
  }
 ],
 "metadata": {
  "kernelspec": {
   "display_name": "Python 3",
   "language": "python",
   "name": "python3"
  },
  "language_info": {
   "codemirror_mode": {
    "name": "ipython",
    "version": 3
   },
   "file_extension": ".py",
   "mimetype": "text/x-python",
   "name": "python",
   "nbconvert_exporter": "python",
   "pygments_lexer": "ipython3",
   "version": "3.6.6"
  }
 },
 "nbformat": 4,
 "nbformat_minor": 2
}
