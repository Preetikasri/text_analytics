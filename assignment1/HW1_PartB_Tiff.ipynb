{
 "cells": [
  {
   "cell_type": "code",
   "execution_count": 1,
   "metadata": {},
   "outputs": [
    {
     "name": "stdout",
     "output_type": "stream",
     "text": [
      "Populating the interactive namespace from numpy and matplotlib\n"
     ]
    }
   ],
   "source": [
    "from pandas import Series, DataFrame\n",
    "import pandas as pd\n",
    "from patsy import dmatrices\n",
    "%pylab inline\n",
    "import warnings\n",
    "warnings.filterwarnings('ignore')\n",
    "import random"
   ]
  },
  {
   "cell_type": "code",
   "execution_count": 2,
   "metadata": {},
   "outputs": [],
   "source": [
    "data = pd.read_csv('data/Train_rev1.csv')"
   ]
  },
  {
   "cell_type": "code",
   "execution_count": 3,
   "metadata": {},
   "outputs": [],
   "source": [
    "random.seed(99) \n",
    "sample = random.sample(range(len(data)),2500)"
   ]
  },
  {
   "cell_type": "code",
   "execution_count": 4,
   "metadata": {},
   "outputs": [],
   "source": [
    "data_s = data.iloc[sample]"
   ]
  },
  {
   "cell_type": "markdown",
   "metadata": {},
   "source": [
    "### B1\n",
    "#### Model with numeric columns only"
   ]
  },
  {
   "cell_type": "code",
   "execution_count": 5,
   "metadata": {},
   "outputs": [],
   "source": [
    "col_names = ['location','contract_type','contract_time','type_of_job','salary']"
   ]
  },
  {
   "cell_type": "code",
   "execution_count": 6,
   "metadata": {},
   "outputs": [],
   "source": [
    "num_data = data_s[['LocationNormalized','ContractType','ContractTime','Category','SalaryNormalized']]\n",
    "num_data.columns = col_names"
   ]
  },
  {
   "cell_type": "code",
   "execution_count": 7,
   "metadata": {},
   "outputs": [
    {
     "data": {
      "text/html": [
       "<div>\n",
       "<style scoped>\n",
       "    .dataframe tbody tr th:only-of-type {\n",
       "        vertical-align: middle;\n",
       "    }\n",
       "\n",
       "    .dataframe tbody tr th {\n",
       "        vertical-align: top;\n",
       "    }\n",
       "\n",
       "    .dataframe thead th {\n",
       "        text-align: right;\n",
       "    }\n",
       "</style>\n",
       "<table border=\"1\" class=\"dataframe\">\n",
       "  <thead>\n",
       "    <tr style=\"text-align: right;\">\n",
       "      <th></th>\n",
       "      <th>location</th>\n",
       "      <th>contract_type</th>\n",
       "      <th>contract_time</th>\n",
       "      <th>type_of_job</th>\n",
       "      <th>salary</th>\n",
       "    </tr>\n",
       "  </thead>\n",
       "  <tbody>\n",
       "    <tr>\n",
       "      <th>98880</th>\n",
       "      <td>Billericay</td>\n",
       "      <td>NaN</td>\n",
       "      <td>contract</td>\n",
       "      <td>Travel Jobs</td>\n",
       "      <td>17568</td>\n",
       "    </tr>\n",
       "    <tr>\n",
       "      <th>48972</th>\n",
       "      <td>Crawley</td>\n",
       "      <td>NaN</td>\n",
       "      <td>NaN</td>\n",
       "      <td>Admin Jobs</td>\n",
       "      <td>23500</td>\n",
       "    </tr>\n",
       "    <tr>\n",
       "      <th>43765</th>\n",
       "      <td>London</td>\n",
       "      <td>NaN</td>\n",
       "      <td>NaN</td>\n",
       "      <td>Hospitality &amp; Catering Jobs</td>\n",
       "      <td>30000</td>\n",
       "    </tr>\n",
       "    <tr>\n",
       "      <th>60808</th>\n",
       "      <td>Warrington</td>\n",
       "      <td>NaN</td>\n",
       "      <td>permanent</td>\n",
       "      <td>HR &amp; Recruitment Jobs</td>\n",
       "      <td>31000</td>\n",
       "    </tr>\n",
       "    <tr>\n",
       "      <th>185993</th>\n",
       "      <td>London</td>\n",
       "      <td>NaN</td>\n",
       "      <td>permanent</td>\n",
       "      <td>Legal Jobs</td>\n",
       "      <td>31500</td>\n",
       "    </tr>\n",
       "  </tbody>\n",
       "</table>\n",
       "</div>"
      ],
      "text/plain": [
       "          location contract_type contract_time                  type_of_job  \\\n",
       "98880   Billericay           NaN      contract                  Travel Jobs   \n",
       "48972      Crawley           NaN           NaN                   Admin Jobs   \n",
       "43765       London           NaN           NaN  Hospitality & Catering Jobs   \n",
       "60808   Warrington           NaN     permanent        HR & Recruitment Jobs   \n",
       "185993      London           NaN     permanent                   Legal Jobs   \n",
       "\n",
       "        salary  \n",
       "98880    17568  \n",
       "48972    23500  \n",
       "43765    30000  \n",
       "60808    31000  \n",
       "185993   31500  "
      ]
     },
     "execution_count": 7,
     "metadata": {},
     "output_type": "execute_result"
    }
   ],
   "source": [
    "num_data.head()"
   ]
  },
  {
   "cell_type": "markdown",
   "metadata": {},
   "source": [
    "Create Target"
   ]
  },
  {
   "cell_type": "code",
   "execution_count": 8,
   "metadata": {},
   "outputs": [],
   "source": [
    "p=np.percentile(num_data['salary'],75)\n",
    "def target(t):\n",
    "    if t>p:\n",
    "        return 1\n",
    "    else:\n",
    "        return 0\n",
    "    \n",
    "num_data['target'] = num_data['salary'].map(target)"
   ]
  },
  {
   "cell_type": "markdown",
   "metadata": {},
   "source": [
    "Get a list of cities with highest cost of living."
   ]
  },
  {
   "cell_type": "code",
   "execution_count": 9,
   "metadata": {},
   "outputs": [],
   "source": [
    "#Get the top 10 highest CoL data from https://abcfinance.co.uk/blog/the-true-cost-of-living-in-uk-cities/\n",
    "high_cost = ['London','Milton Keynes','Bath','Reading','Aberdeen','Cambridge','Oxford','Portsmouth','Edinburgh','York']"
   ]
  },
  {
   "cell_type": "code",
   "execution_count": 10,
   "metadata": {},
   "outputs": [],
   "source": [
    "def location_class(s):\n",
    "    if s in high_cost:\n",
    "        return 'high'\n",
    "    else:\n",
    "        return 'low'\n",
    "num_data['location_class'] = num_data['location'].map(location_class)"
   ]
  },
  {
   "cell_type": "markdown",
   "metadata": {},
   "source": [
    "Now, get the dummies for each variables."
   ]
  },
  {
   "cell_type": "code",
   "execution_count": 11,
   "metadata": {},
   "outputs": [
    {
     "name": "stdout",
     "output_type": "stream",
     "text": [
      "['location' 'contract_type' 'contract_time' 'type_of_job' 'salary'\n",
      " 'target' 'location_class']\n"
     ]
    }
   ],
   "source": [
    "print num_data.columns.values"
   ]
  },
  {
   "cell_type": "code",
   "execution_count": 13,
   "metadata": {},
   "outputs": [
    {
     "data": {
      "text/plain": [
       "array(['contract_type_full_time', 'contract_type_part_time',\n",
       "       'contract_time_contract', 'contract_time_permanent',\n",
       "       'type_of_job_Accounting & Finance Jobs', 'type_of_job_Admin Jobs',\n",
       "       'type_of_job_Charity & Voluntary Jobs',\n",
       "       'type_of_job_Consultancy Jobs',\n",
       "       'type_of_job_Creative & Design Jobs',\n",
       "       'type_of_job_Customer Services Jobs'], dtype=object)"
      ]
     },
     "execution_count": 13,
     "metadata": {},
     "output_type": "execute_result"
    }
   ],
   "source": [
    "categorical_columns = ['contract_type', 'contract_time', 'type_of_job','location_class']\n",
    "data_dummies = pd.get_dummies(num_data[categorical_columns],\n",
    "                            prefix=categorical_columns,\n",
    "                            columns=categorical_columns)\n",
    "dummy_column_names = data_dummies.columns.values\n",
    "dummy_column_names[:10]"
   ]
  },
  {
   "cell_type": "code",
   "execution_count": 14,
   "metadata": {},
   "outputs": [
    {
     "data": {
      "text/plain": [
       "array(['location', 'contract_type', 'contract_time', 'type_of_job',\n",
       "       'salary', 'target', 'location_class', 'contract_type_full_time',\n",
       "       'contract_type_part_time', 'contract_time_contract',\n",
       "       'contract_time_permanent', 'type_of_job_Accounting & Finance Jobs',\n",
       "       'type_of_job_Admin Jobs', 'type_of_job_Charity & Voluntary Jobs',\n",
       "       'type_of_job_Consultancy Jobs',\n",
       "       'type_of_job_Creative & Design Jobs',\n",
       "       'type_of_job_Customer Services Jobs',\n",
       "       'type_of_job_Domestic help & Cleaning Jobs',\n",
       "       'type_of_job_Energy, Oil & Gas Jobs',\n",
       "       'type_of_job_Engineering Jobs', 'type_of_job_Graduate Jobs',\n",
       "       'type_of_job_HR & Recruitment Jobs',\n",
       "       'type_of_job_Healthcare & Nursing Jobs',\n",
       "       'type_of_job_Hospitality & Catering Jobs', 'type_of_job_IT Jobs',\n",
       "       'type_of_job_Legal Jobs', 'type_of_job_Logistics & Warehouse Jobs',\n",
       "       'type_of_job_Maintenance Jobs', 'type_of_job_Manufacturing Jobs',\n",
       "       'type_of_job_Other/General Jobs',\n",
       "       'type_of_job_PR, Advertising & Marketing Jobs',\n",
       "       'type_of_job_Part time Jobs', 'type_of_job_Property Jobs',\n",
       "       'type_of_job_Retail Jobs', 'type_of_job_Sales Jobs',\n",
       "       'type_of_job_Scientific & QA Jobs', 'type_of_job_Social work Jobs',\n",
       "       'type_of_job_Teaching Jobs',\n",
       "       'type_of_job_Trade & Construction Jobs', 'type_of_job_Travel Jobs',\n",
       "       'location_class_high', 'location_class_low'], dtype=object)"
      ]
     },
     "execution_count": 14,
     "metadata": {},
     "output_type": "execute_result"
    }
   ],
   "source": [
    "num_data2 = pd.concat([num_data, data_dummies], axis=1)\n",
    "num_data2.columns.values"
   ]
  },
  {
   "cell_type": "markdown",
   "metadata": {},
   "source": [
    "Now, build Naive Bayes model."
   ]
  },
  {
   "cell_type": "code",
   "execution_count": 16,
   "metadata": {},
   "outputs": [],
   "source": [
    "formula = 'target ~ 0 + {}'.format(' + '.join(['Q(\"{}\")'.format(x) for x in dummy_column_names]))"
   ]
  },
  {
   "cell_type": "code",
   "execution_count": 17,
   "metadata": {},
   "outputs": [],
   "source": [
    "Y, X = dmatrices(formula, num_data2, return_type='dataframe')\n",
    "y = Y['target'].values"
   ]
  },
  {
   "cell_type": "code",
   "execution_count": 18,
   "metadata": {},
   "outputs": [
    {
     "data": {
      "text/plain": [
       "MultinomialNB(alpha=1.0, class_prior=None, fit_prior=True)"
      ]
     },
     "execution_count": 18,
     "metadata": {},
     "output_type": "execute_result"
    }
   ],
   "source": [
    "from sklearn import naive_bayes\n",
    "model = naive_bayes.MultinomialNB()\n",
    "model.fit(X, y)"
   ]
  },
  {
   "cell_type": "code",
   "execution_count": 19,
   "metadata": {},
   "outputs": [
    {
     "name": "stdout",
     "output_type": "stream",
     "text": [
      "0.7524\n"
     ]
    }
   ],
   "source": [
    "from sklearn import metrics\n",
    "\n",
    "prediction_train = model.predict(X)\n",
    "print metrics.accuracy_score(y, prediction_train)"
   ]
  },
  {
   "cell_type": "markdown",
   "metadata": {},
   "source": [
    "The accuracy of using numerical variables are 75.24%"
   ]
  },
  {
   "cell_type": "code",
   "execution_count": 25,
   "metadata": {},
   "outputs": [
    {
     "data": {
      "text/plain": [
       "array([[1802,   73],\n",
       "       [ 546,   79]])"
      ]
     },
     "execution_count": 25,
     "metadata": {},
     "output_type": "execute_result"
    }
   ],
   "source": [
    "from sklearn.metrics import confusion_matrix\n",
    "confusion_matrix(y, prediction_train)"
   ]
  },
  {
   "cell_type": "markdown",
   "metadata": {},
   "source": [
    "#### Model with text columns only"
   ]
  },
  {
   "cell_type": "code",
   "execution_count": null,
   "metadata": {},
   "outputs": [],
   "source": []
  }
 ],
 "metadata": {
  "kernelspec": {
   "display_name": "Python 3",
   "language": "python",
   "name": "python3"
  },
  "language_info": {
   "codemirror_mode": {
    "name": "ipython",
    "version": 3
   },
   "file_extension": ".py",
   "mimetype": "text/x-python",
   "name": "python",
   "nbconvert_exporter": "python",
   "pygments_lexer": "ipython3",
   "version": "3.6.6"
  }
 },
 "nbformat": 4,
 "nbformat_minor": 2
}
